{
 "cells": [
  {
   "cell_type": "markdown",
   "metadata": {},
   "source": [
    "<center>\n",
    "    <img src=\"https://cf-courses-data.s3.us.cloud-object-storage.appdomain.cloud/IBMDeveloperSkillsNetwork-DS0105EN-SkillsNetwork/labs/Module2/images/SN_web_lightmode.png\" width=\"300\" alt=\"cognitiveclass.ai logo\">\n",
    "</center>\n"
   ]
  },
  {
   "cell_type": "markdown",
   "metadata": {},
   "source": [
    "#### Add your code below following the instructions given in the course\n"
   ]
  },
  {
   "cell_type": "markdown",
   "metadata": {},
   "source": [
    "# Peer Review Assignment"
   ]
  },
  {
   "cell_type": "markdown",
   "metadata": {},
   "source": [
    "## Introduction\n",
    "\n",
    "This Jupyter Notebook contains the Peer Review Assignment for the 'Tools for Data Science' course under IBM Proffesional Data Science Course."
   ]
  },
  {
   "cell_type": "markdown",
   "metadata": {},
   "source": [
    "# List of Data Science Languages\n",
    "\n",
    "Here is the list of languages used in data science:\n",
    "1. Python\n",
    "\n",
    "2. R\n",
    "\n",
    "3. Julia\n",
    "\n",
    "4. JavaScript\n",
    "\n",
    "5. Scala\n",
    "\n",
    "6. Java\n",
    "\n",
    "7. Go\n",
    "\n",
    "8. MATLAB\n",
    "\n"
   ]
  },
  {
   "cell_type": "markdown",
   "metadata": {},
   "source": [
    "# List of Data Science Libraries\n",
    "\n",
    "Below is the list of libraries used in data science\n",
    "1. Pandas\n",
    "\n",
    "2. TensorFlow\n",
    "\n",
    "3. NumPy\n",
    "\n",
    "4. MatPlotLib\n",
    "\n",
    "5. Keras\n",
    "\n",
    "6. SciKit Learn\n",
    "\n",
    "7. BeautifulSoup\n",
    "\n"
   ]
  },
  {
   "cell_type": "markdown",
   "metadata": {},
   "source": [
    "# Data Science Tools\n",
    "\n",
    "| Sr. No.  |  Tools  |\n",
    "|----------|---------|\n",
    "|1  |Apache Spark|\n",
    "|2  |Tableau|\n",
    "|3  |Power BI|\n",
    "|4  |SAS|\n",
    "|5  |Excel|\n",
    "|6  |MATLAB|\n",
    "|7  |ggplot|\n",
    "|8  |Juypter|\n"
   ]
  },
  {
   "cell_type": "markdown",
   "metadata": {},
   "source": [
    "## Arithmetic Expressions\n",
    "\n",
    "x+y\n",
    "\n",
    "x-y\n",
    "\n",
    "x*y\n",
    "\n",
    "x/y\n",
    "\n",
    "x//y\n",
    "\n",
    "x%y\n",
    "\n",
    "x** y"
   ]
  },
  {
   "cell_type": "code",
   "execution_count": 2,
   "metadata": {},
   "outputs": [
    {
     "name": "stdout",
     "output_type": "stream",
     "text": [
      "27\n",
      "12\n"
     ]
    }
   ],
   "source": [
    "a=9\n",
    "b=3\n",
    "print(a*b)\n",
    "print(a+b)"
   ]
  },
  {
   "cell_type": "code",
   "execution_count": 4,
   "metadata": {},
   "outputs": [
    {
     "name": "stdout",
     "output_type": "stream",
     "text": [
      "40\n",
      "0.6666666666666666\n"
     ]
    }
   ],
   "source": [
    "min=int(input())\n",
    "hrs=float(min/60)\n",
    "print(hrs)"
   ]
  },
  {
   "cell_type": "markdown",
   "metadata": {},
   "source": [
    "# Objectives\n",
    "\n",
    "- Objective of this Jupyter Notebook is to learn the basics of using Jupyter Notebook. \n",
    "- Markdowns help to understand what is the code about and differentiate different parts of the code. \n",
    "- Markdown is a lightweight markup language that describes how a text looks like."
   ]
  },
  {
   "cell_type": "markdown",
   "metadata": {},
   "source": [
    "# Author- Mugdha Walawalkar"
   ]
  }
 ],
 "metadata": {
  "kernelspec": {
   "display_name": "Python 3 (ipykernel)",
   "language": "python",
   "name": "python3"
  },
  "language_info": {
   "codemirror_mode": {
    "name": "ipython",
    "version": 3
   },
   "file_extension": ".py",
   "mimetype": "text/x-python",
   "name": "python",
   "nbconvert_exporter": "python",
   "pygments_lexer": "ipython3",
   "version": "3.9.12"
  }
 },
 "nbformat": 4,
 "nbformat_minor": 4
}
